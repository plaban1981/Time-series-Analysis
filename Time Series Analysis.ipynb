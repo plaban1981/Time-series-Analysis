{
 "cells": [
  {
   "cell_type": "markdown",
   "metadata": {},
   "source": [
    "# TIME SERIES ANALYSIS \n",
    "\n",
    "Time series contains a sequence of data points which are indexed in an order.This order is basically the time in which they happened or recorded.\n",
    "Points are recorded at discrete time with equal space intervals.\n",
    "\n",
    "Time Series forecasting is the way to predict the behaviour using past data points. Forecasting is very much useful to know the direction of data.\n",
    "\n",
    "Time series forecasting is different from Supervised Learning. \n",
    "In supervised learning we assume that all observations are independent from each other.Data recorded can be used in any order and they do not have any specific order to follow.\n",
    "This is not the case with Time Series.In time series data points sequence makes a lot of sense and we cannot ignore it.\n",
    "With the sequence we can find short term trends in data points."
   ]
  },
  {
   "cell_type": "code",
   "execution_count": 2,
   "metadata": {},
   "outputs": [
    {
     "name": "stdout",
     "output_type": "stream",
     "text": [
      "Collecting statsmodels\n",
      "  Downloading https://files.pythonhosted.org/packages/9f/fd/a42d857429f5a5eeda0fcb9eca0d078fb7a7370a49b7cc79550906930166/statsmodels-0.9.0-cp35-cp35m-win_amd64.whl (7.0MB)\n",
      "Installing collected packages: statsmodels\n",
      "Successfully installed statsmodels-0.9.0\n"
     ]
    },
    {
     "name": "stderr",
     "output_type": "stream",
     "text": [
      "You are using pip version 9.0.1, however version 10.0.1 is available.\n",
      "You should consider upgrading via the 'python -m pip install --upgrade pip' command.\n"
     ]
    }
   ],
   "source": [
    "!pip install statsmodels"
   ]
  },
  {
   "cell_type": "code",
   "execution_count": 4,
   "metadata": {},
   "outputs": [
    {
     "name": "stdout",
     "output_type": "stream",
     "text": [
      "Collecting patsy\n",
      "  Downloading https://files.pythonhosted.org/packages/5d/eb/92c4b45ca47a2dd1339c958636e083b50ffadb5162a599a1cbbe92f89832/patsy-0.5.0-py2.py3-none-any.whl (232kB)\n",
      "Requirement already satisfied: six in c:\\users\\intel\\anaconda3\\envs\\tfdeeplearning\\lib\\site-packages (from patsy)\n",
      "Requirement already satisfied: numpy>=1.4 in c:\\users\\intel\\anaconda3\\envs\\tfdeeplearning\\lib\\site-packages (from patsy)\n",
      "Installing collected packages: patsy\n",
      "Successfully installed patsy-0.5.0\n"
     ]
    },
    {
     "name": "stderr",
     "output_type": "stream",
     "text": [
      "You are using pip version 9.0.1, however version 10.0.1 is available.\n",
      "You should consider upgrading via the 'python -m pip install --upgrade pip' command.\n"
     ]
    }
   ],
   "source": [
    "!pip install patsy"
   ]
  },
  {
   "cell_type": "markdown",
   "metadata": {},
   "source": [
    "# DATE  AND TIME HANDLING IN PANDAS"
   ]
  },
  {
   "cell_type": "code",
   "execution_count": 1,
   "metadata": {
    "collapsed": true
   },
   "outputs": [],
   "source": [
    "#Import library\n",
    "import pandas  as pd\n",
    "import numpy  as np\n",
    "import math \n",
    "import matplotlib.pyplot as plt\n",
    "%matplotlib inline\n",
    "import matplotlib.pylab\n",
    "from statsmodels.tsa import stattools"
   ]
  },
  {
   "cell_type": "markdown",
   "metadata": {},
   "source": [
    "# Generaing data in time range"
   ]
  },
  {
   "cell_type": "code",
   "execution_count": 7,
   "metadata": {},
   "outputs": [
    {
     "data": {
      "text/plain": [
       "DatetimeIndex(['2018-07-22', '2018-07-29', '2018-08-05', '2018-08-12',\n",
       "               '2018-08-19', '2018-08-26', '2018-09-02', '2018-09-09',\n",
       "               '2018-09-16', '2018-09-23', '2018-09-30', '2018-10-07',\n",
       "               '2018-10-14', '2018-10-21', '2018-10-28', '2018-11-04',\n",
       "               '2018-11-11', '2018-11-18', '2018-11-25', '2018-12-02'],\n",
       "              dtype='datetime64[ns]', freq='W-SUN')"
      ]
     },
     "execution_count": 7,
     "metadata": {},
     "output_type": "execute_result"
    }
   ],
   "source": [
    "#Consider pandas date_range function to generate data for 20 days\n",
    "#this function generates data for 20 days starting from 2018 July 16 and frequency is weekly.\n",
    "#parameter 1 --> starting date\n",
    "#period ---> count we want to generate\n",
    "#freq ----> Frequency in the sequence\n",
    "pd.date_range('2018 Jul 16', periods = 20, freq = 'W')"
   ]
  },
  {
   "cell_type": "code",
   "execution_count": 8,
   "metadata": {},
   "outputs": [
    {
     "data": {
      "text/plain": [
       "DatetimeIndex(['2018-07-16', '2018-07-17', '2018-07-18', '2018-07-19',\n",
       "               '2018-07-20', '2018-07-21', '2018-07-22', '2018-07-23',\n",
       "               '2018-07-24', '2018-07-25', '2018-07-26', '2018-07-27',\n",
       "               '2018-07-28', '2018-07-29', '2018-07-30', '2018-07-31',\n",
       "               '2018-08-01', '2018-08-02', '2018-08-03', '2018-08-04'],\n",
       "              dtype='datetime64[ns]', freq='D')"
      ]
     },
     "execution_count": 8,
     "metadata": {},
     "output_type": "execute_result"
    }
   ],
   "source": [
    "#frequency - Daily\n",
    "pd.date_range('2018 Jul 16', periods = 20, freq = 'D')"
   ]
  },
  {
   "cell_type": "code",
   "execution_count": 22,
   "metadata": {},
   "outputs": [
    {
     "data": {
      "text/plain": [
       "DatetimeIndex(['2018-07-02', '2018-07-03', '2018-07-04', '2018-07-05',\n",
       "               '2018-07-06', '2018-07-09', '2018-07-10', '2018-07-11',\n",
       "               '2018-07-12', '2018-07-13', '2018-07-16', '2018-07-17',\n",
       "               '2018-07-18', '2018-07-19', '2018-07-20', '2018-07-23',\n",
       "               '2018-07-24', '2018-07-25', '2018-07-26', '2018-07-27'],\n",
       "              dtype='datetime64[ns]', freq='B')"
      ]
     },
     "execution_count": 22,
     "metadata": {},
     "output_type": "execute_result"
    }
   ],
   "source": [
    "#Generate data for business days \n",
    "pd.date_range('2018 Jul 1', periods = 20, freq = 'B')"
   ]
  },
  {
   "cell_type": "code",
   "execution_count": 6,
   "metadata": {},
   "outputs": [
    {
     "data": {
      "text/plain": [
       "DatetimeIndex(['2018-01-01', '2018-01-02', '2018-01-03', '2018-01-04',\n",
       "               '2018-01-05', '2018-01-08', '2018-01-09', '2018-01-10',\n",
       "               '2018-01-11', '2018-01-12',\n",
       "               ...\n",
       "               '2018-12-19', '2018-12-20', '2018-12-21', '2018-12-24',\n",
       "               '2018-12-25', '2018-12-26', '2018-12-27', '2018-12-28',\n",
       "               '2018-12-31', '2019-01-01'],\n",
       "              dtype='datetime64[ns]', length=262, freq='B')"
      ]
     },
     "execution_count": 6,
     "metadata": {},
     "output_type": "execute_result"
    }
   ],
   "source": [
    "from datetime import datetime\n",
    "#Return a fixed frequency datetime index, with business day as the default\n",
    "start = datetime(2018, 1, 1)\n",
    "end = datetime(2019, 1, 1)\n",
    "pd.bdate_range(start,end, freq='B')"
   ]
  },
  {
   "cell_type": "code",
   "execution_count": 24,
   "metadata": {},
   "outputs": [
    {
     "data": {
      "text/plain": [
       "DatetimeIndex(['2018-07-01 00:00:00', '2018-07-01 01:00:00',\n",
       "               '2018-07-01 02:00:00', '2018-07-01 03:00:00',\n",
       "               '2018-07-01 04:00:00', '2018-07-01 05:00:00',\n",
       "               '2018-07-01 06:00:00', '2018-07-01 07:00:00',\n",
       "               '2018-07-01 08:00:00', '2018-07-01 09:00:00',\n",
       "               '2018-07-01 10:00:00', '2018-07-01 11:00:00',\n",
       "               '2018-07-01 12:00:00', '2018-07-01 13:00:00',\n",
       "               '2018-07-01 14:00:00', '2018-07-01 15:00:00',\n",
       "               '2018-07-01 16:00:00', '2018-07-01 17:00:00',\n",
       "               '2018-07-01 18:00:00', '2018-07-01 19:00:00',\n",
       "               '2018-07-01 20:00:00', '2018-07-01 21:00:00',\n",
       "               '2018-07-01 22:00:00', '2018-07-01 23:00:00'],\n",
       "              dtype='datetime64[ns]', freq='H')"
      ]
     },
     "execution_count": 24,
     "metadata": {},
     "output_type": "execute_result"
    }
   ],
   "source": [
    "#Generate data for every hour\n",
    "pd.date_range('2018 Jul 1', periods = 24, freq = 'H')"
   ]
  },
  {
   "cell_type": "code",
   "execution_count": 25,
   "metadata": {},
   "outputs": [
    {
     "data": {
      "text/plain": [
       "PeriodIndex(['2018-06-01', '2018-06-02', '2018-06-03', '2018-06-04',\n",
       "             '2018-06-05', '2018-06-06', '2018-06-07', '2018-06-08',\n",
       "             '2018-06-09', '2018-06-10', '2018-06-11', '2018-06-12',\n",
       "             '2018-06-13', '2018-06-14', '2018-06-15', '2018-06-16',\n",
       "             '2018-06-17', '2018-06-18', '2018-06-19', '2018-06-20',\n",
       "             '2018-06-21', '2018-06-22', '2018-06-23', '2018-06-24',\n",
       "             '2018-06-25', '2018-06-26', '2018-06-27', '2018-06-28',\n",
       "             '2018-06-29', '2018-06-30', '2018-07-01'],\n",
       "            dtype='period[D]', freq='D')"
      ]
     },
     "execution_count": 25,
     "metadata": {},
     "output_type": "execute_result"
    }
   ],
   "source": [
    "pd.period_range('2018-06-01','2018-07-01', freq = 'D')"
   ]
  },
  {
   "cell_type": "markdown",
   "metadata": {},
   "source": [
    "# Working with timestamps"
   ]
  },
  {
   "cell_type": "markdown",
   "metadata": {},
   "source": [
    "Timestamps are used to denote one moment of time.It represents time in discrete levels.This is achieved through pandas Timestamp function"
   ]
  },
  {
   "cell_type": "code",
   "execution_count": 26,
   "metadata": {},
   "outputs": [
    {
     "name": "stdout",
     "output_type": "stream",
     "text": [
      "Start time 2018-07-01 00:00:00\n",
      "End time 2018-07-31 23:59:59.999999999\n"
     ]
    }
   ],
   "source": [
    "period = pd.Period('Jul 2018')\n",
    "print('Start time', period.start_time)\n",
    "print('End time',period.end_time)"
   ]
  },
  {
   "cell_type": "code",
   "execution_count": 9,
   "metadata": {},
   "outputs": [
    {
     "data": {
      "text/plain": [
       "Timestamp('2018-07-01 00:00:00')"
      ]
     },
     "execution_count": 9,
     "metadata": {},
     "output_type": "execute_result"
    }
   ],
   "source": [
    "pd.Timestamp('2018 Jul 1')"
   ]
  },
  {
   "cell_type": "code",
   "execution_count": 19,
   "metadata": {},
   "outputs": [
    {
     "data": {
      "text/plain": [
       "Timestamp('2018-07-01 19:50:54.713834')"
      ]
     },
     "execution_count": 19,
     "metadata": {},
     "output_type": "execute_result"
    }
   ],
   "source": [
    "#get current timestamp from datetime.now() function\n",
    "time = datetime.now()\n",
    "timestamp = pd.Timestamp(time)\n",
    "timestamp"
   ]
  },
  {
   "cell_type": "code",
   "execution_count": 20,
   "metadata": {},
   "outputs": [
    {
     "name": "stdout",
     "output_type": "stream",
     "text": [
      "Day of the timestamp 1\n",
      "Week of the timestamp 26\n",
      "minute of the timestamp 50\n",
      "day of the week of the timestamp 6\n",
      "Year is leap year or not False\n"
     ]
    }
   ],
   "source": [
    "print('Day of the timestamp {}'.format(timestamp.day))\n",
    "print('Week of the timestamp {}'.format(timestamp.week))\n",
    "print('minute of the timestamp {}'.format(timestamp.minute))\n",
    "print('day of the week of the timestamp {}'.format(timestamp.dayofweek))\n",
    "print('Year is leap year or not {}'.format(timestamp.is_leap_year))"
   ]
  },
  {
   "cell_type": "markdown",
   "metadata": {},
   "source": [
    "# Timestamp Delta Functions in Pandas"
   ]
  },
  {
   "cell_type": "code",
   "execution_count": 27,
   "metadata": {},
   "outputs": [
    {
     "data": {
      "text/plain": [
       "Timestamp('2018-07-02 19:50:54.713834')"
      ]
     },
     "execution_count": 27,
     "metadata": {},
     "output_type": "execute_result"
    }
   ],
   "source": [
    "timestamp + pd.Timedelta('1 day')"
   ]
  },
  {
   "cell_type": "code",
   "execution_count": 28,
   "metadata": {},
   "outputs": [
    {
     "data": {
      "text/plain": [
       "Timestamp('2018-07-01 21:00:54.713834')"
      ]
     },
     "execution_count": 28,
     "metadata": {},
     "output_type": "execute_result"
    }
   ],
   "source": [
    "# we can add hour / minutes / seconds same way\n",
    "timestamp + pd.Timedelta('1 Hour 10 minutes')"
   ]
  },
  {
   "cell_type": "code",
   "execution_count": 29,
   "metadata": {},
   "outputs": [
    {
     "data": {
      "text/plain": [
       "Timestamp('2018-07-02 21:00:54.713834')"
      ]
     },
     "execution_count": 29,
     "metadata": {},
     "output_type": "execute_result"
    }
   ],
   "source": [
    "timestamp + pd.Timedelta(' 1 day 1 Hour 10 minutes')"
   ]
  },
  {
   "cell_type": "code",
   "execution_count": 30,
   "metadata": {},
   "outputs": [
    {
     "data": {
      "text/plain": [
       "Timestamp('2018-07-01 18:40:54.713834')"
      ]
     },
     "execution_count": 30,
     "metadata": {},
     "output_type": "execute_result"
    }
   ],
   "source": [
    "timestamp -  pd.Timedelta('1 Hour 10 minutes')"
   ]
  },
  {
   "cell_type": "code",
   "execution_count": 32,
   "metadata": {},
   "outputs": [
    {
     "data": {
      "text/plain": [
       "Timestamp('2018-06-30 19:50:54.713834')"
      ]
     },
     "execution_count": 32,
     "metadata": {},
     "output_type": "execute_result"
    }
   ],
   "source": [
    "timestamp - pd.Timedelta('1 day')"
   ]
  },
  {
   "cell_type": "code",
   "execution_count": 33,
   "metadata": {},
   "outputs": [
    {
     "name": "stdout",
     "output_type": "stream",
     "text": [
      "timestamp : 2018-07-01 19:50:54.713834\n",
      "Start time 2018-07-01 00:00:00\n",
      "End time 2018-07-31 23:59:59.999999999\n",
      "True\n"
     ]
    }
   ],
   "source": [
    "#we can also check the validity of a timestamp within a period or not\n",
    "period = pd.Period('Jul 2018')\n",
    "print('timestamp :',timestamp)\n",
    "print('Start time', period.start_time)\n",
    "print('End time',period.end_time)\n",
    "print(period.start_time<timestamp and period.end_time>timestamp)"
   ]
  },
  {
   "cell_type": "code",
   "execution_count": 36,
   "metadata": {},
   "outputs": [
    {
     "data": {
      "text/plain": [
       "PeriodIndex(['2018-06-01', '2018-06-02', '2018-06-03', '2018-06-04',\n",
       "             '2018-06-05', '2018-06-06', '2018-06-07', '2018-06-08',\n",
       "             '2018-06-09', '2018-06-10', '2018-06-11', '2018-06-12',\n",
       "             '2018-06-13', '2018-06-14', '2018-06-15', '2018-06-16',\n",
       "             '2018-06-17', '2018-06-18', '2018-06-19', '2018-06-20',\n",
       "             '2018-06-21', '2018-06-22', '2018-06-23', '2018-06-24',\n",
       "             '2018-06-25', '2018-06-26', '2018-06-27', '2018-06-28',\n",
       "             '2018-06-29', '2018-06-30'],\n",
       "            dtype='period[D]', freq='D')"
      ]
     },
     "execution_count": 36,
     "metadata": {},
     "output_type": "execute_result"
    }
   ],
   "source": [
    "#create buckets of periods within a range using period_range function\n",
    "#pd.period_range(start=None, end=None, periods=None, freq='D', name=None)\n",
    "#frequency specified as Day D\n",
    "pd.period_range('2018-06-01','2018-06-30',freq='D')"
   ]
  },
  {
   "cell_type": "markdown",
   "metadata": {},
   "source": [
    "# Using TimeZone functionality with Timestamps"
   ]
  },
  {
   "cell_type": "code",
   "execution_count": 39,
   "metadata": {},
   "outputs": [
    {
     "data": {
      "text/plain": [
       "Timestamp('2018-07-01 20:45:31.461357+0530', tz='Asia/Kolkata')"
      ]
     },
     "execution_count": 39,
     "metadata": {},
     "output_type": "execute_result"
    }
   ],
   "source": [
    "#Localize to timezone Asia/Kolkata using timestamp localize function tz_localize\n",
    "time = datetime.now()\n",
    "second_stamp = pd.Timestamp(time)\n",
    "second_stamp.tz_localize('Asia/Kolkata')"
   ]
  },
  {
   "cell_type": "code",
   "execution_count": 41,
   "metadata": {},
   "outputs": [
    {
     "data": {
      "text/plain": [
       "Timestamp('2018-07-01 20:45:31.461357+0300', tz='Africa/Addis_Ababa')"
      ]
     },
     "execution_count": 41,
     "metadata": {},
     "output_type": "execute_result"
    }
   ],
   "source": [
    "#Localize the same timestamp again and assign it in different variable\n",
    "third_stamp = second_stamp.tz_localize('Africa/Addis_Ababa')\n",
    "third_stamp"
   ]
  },
  {
   "cell_type": "code",
   "execution_count": 43,
   "metadata": {},
   "outputs": [
    {
     "data": {
      "text/plain": [
       "Timestamp('2018-07-01 13:45:31.461357-0400', tz='America/Manaus')"
      ]
     },
     "execution_count": 43,
     "metadata": {},
     "output_type": "execute_result"
    }
   ],
   "source": [
    "#tz_localize() function will change the timestone but will not convert it.\n",
    "#tz_convert() will convert the timestamp accordingly to a new timezone.\n",
    "#This comes handy when we have data from different timezones and we want to make it unique and arrange in a sequence.\n",
    "\n",
    "#we can convert one timezone to another timezone. Timestamp time and date will change accordingly\n",
    "third_stamp.tz_convert('America/Manaus')"
   ]
  },
  {
   "cell_type": "code",
   "execution_count": 45,
   "metadata": {},
   "outputs": [
    {
     "name": "stdout",
     "output_type": "stream",
     "text": [
      "593\n",
      "['Africa/Accra', 'Africa/Addis_Ababa', 'Africa/Algiers', 'Africa/Asmara', 'Africa/Asmera', 'Africa/Bamako', 'Africa/Bangui', 'Africa/Banjul', 'Africa/Bissau', 'Africa/Blantyre', 'Africa/Brazzaville', 'Africa/Bujumbura', 'Africa/Cairo', 'Africa/Casablanca', 'Africa/Ceuta', 'Africa/Conakry', 'Africa/Dakar', 'Africa/Dar_es_Salaam', 'Africa/Djibouti']\n"
     ]
    }
   ],
   "source": [
    "#Get list of all timezones in pandas\n",
    "from pytz import all_timezones\n",
    "print(len(all_timezones))\n",
    "print(all_timezones[1:20])"
   ]
  },
  {
   "cell_type": "markdown",
   "metadata": {},
   "source": [
    "# Reading data from file\n",
    "\n",
    "Let's understand reading a file in python that contains dates related information. This data has an entry for each month and value associated with it. "
   ]
  },
  {
   "cell_type": "code",
   "execution_count": 48,
   "metadata": {},
   "outputs": [
    {
     "name": "stdout",
     "output_type": "stream",
     "text": [
      "Date,Price\n",
      "\n",
      "1/31/2000,219.94244929860963\n",
      "\n",
      "2/29/2000,275.1176471652472\n",
      "\n",
      "3/31/2000,263.19820260943925\n",
      "\n",
      "4/30/2000,253.4287672679725\n",
      "\n",
      "5/31/2000,215.7426023601063\n",
      "\n",
      "6/30/2000,261.0963353861061\n",
      "\n",
      "7/31/2000,213.31405900429868\n",
      "\n",
      "8/31/2000,263.70375803608897\n",
      "\n",
      "9/30/2000,233.68668730084215\n",
      "\n"
     ]
    }
   ],
   "source": [
    "with open('C:/Users/INTEL/Desktop/Books/Tensorflow/Machine Learning Codes/Exercise Files/data/monthly_price.csv') as f:\n",
    "    for x in range(10):\n",
    "        print(next(f))"
   ]
  },
  {
   "cell_type": "code",
   "execution_count": 49,
   "metadata": {
    "collapsed": true
   },
   "outputs": [],
   "source": [
    "#use pandas read_csv function to read the file\n",
    "data = pd.read_csv('C:/Users/INTEL/Desktop/Books/Tensorflow/Machine Learning Codes/Exercise Files/data/monthly_price.csv')"
   ]
  },
  {
   "cell_type": "code",
   "execution_count": 50,
   "metadata": {},
   "outputs": [
    {
     "data": {
      "text/html": [
       "<div>\n",
       "<style>\n",
       "    .dataframe thead tr:only-child th {\n",
       "        text-align: right;\n",
       "    }\n",
       "\n",
       "    .dataframe thead th {\n",
       "        text-align: left;\n",
       "    }\n",
       "\n",
       "    .dataframe tbody tr th {\n",
       "        vertical-align: top;\n",
       "    }\n",
       "</style>\n",
       "<table border=\"1\" class=\"dataframe\">\n",
       "  <thead>\n",
       "    <tr style=\"text-align: right;\">\n",
       "      <th></th>\n",
       "      <th>Date</th>\n",
       "      <th>Price</th>\n",
       "    </tr>\n",
       "  </thead>\n",
       "  <tbody>\n",
       "    <tr>\n",
       "      <th>0</th>\n",
       "      <td>1/31/2000</td>\n",
       "      <td>219.942449</td>\n",
       "    </tr>\n",
       "    <tr>\n",
       "      <th>1</th>\n",
       "      <td>2/29/2000</td>\n",
       "      <td>275.117647</td>\n",
       "    </tr>\n",
       "    <tr>\n",
       "      <th>2</th>\n",
       "      <td>3/31/2000</td>\n",
       "      <td>263.198203</td>\n",
       "    </tr>\n",
       "    <tr>\n",
       "      <th>3</th>\n",
       "      <td>4/30/2000</td>\n",
       "      <td>253.428767</td>\n",
       "    </tr>\n",
       "    <tr>\n",
       "      <th>4</th>\n",
       "      <td>5/31/2000</td>\n",
       "      <td>215.742602</td>\n",
       "    </tr>\n",
       "  </tbody>\n",
       "</table>\n",
       "</div>"
      ],
      "text/plain": [
       "        Date       Price\n",
       "0  1/31/2000  219.942449\n",
       "1  2/29/2000  275.117647\n",
       "2  3/31/2000  263.198203\n",
       "3  4/30/2000  253.428767\n",
       "4  5/31/2000  215.742602"
      ]
     },
     "execution_count": 50,
     "metadata": {},
     "output_type": "execute_result"
    }
   ],
   "source": [
    "data.head()"
   ]
  },
  {
   "cell_type": "code",
   "execution_count": 53,
   "metadata": {},
   "outputs": [
    {
     "data": {
      "text/html": [
       "<div>\n",
       "<style>\n",
       "    .dataframe thead tr:only-child th {\n",
       "        text-align: right;\n",
       "    }\n",
       "\n",
       "    .dataframe thead th {\n",
       "        text-align: left;\n",
       "    }\n",
       "\n",
       "    .dataframe tbody tr th {\n",
       "        vertical-align: top;\n",
       "    }\n",
       "</style>\n",
       "<table border=\"1\" class=\"dataframe\">\n",
       "  <thead>\n",
       "    <tr style=\"text-align: right;\">\n",
       "      <th></th>\n",
       "      <th>Date</th>\n",
       "      <th>Price</th>\n",
       "    </tr>\n",
       "  </thead>\n",
       "  <tbody>\n",
       "    <tr>\n",
       "      <th>0</th>\n",
       "      <td>2000-01-31</td>\n",
       "      <td>219.942449</td>\n",
       "    </tr>\n",
       "    <tr>\n",
       "      <th>1</th>\n",
       "      <td>2000-02-29</td>\n",
       "      <td>275.117647</td>\n",
       "    </tr>\n",
       "    <tr>\n",
       "      <th>2</th>\n",
       "      <td>2000-03-31</td>\n",
       "      <td>263.198203</td>\n",
       "    </tr>\n",
       "    <tr>\n",
       "      <th>3</th>\n",
       "      <td>2000-04-30</td>\n",
       "      <td>253.428767</td>\n",
       "    </tr>\n",
       "    <tr>\n",
       "      <th>4</th>\n",
       "      <td>2000-05-31</td>\n",
       "      <td>215.742602</td>\n",
       "    </tr>\n",
       "  </tbody>\n",
       "</table>\n",
       "</div>"
      ],
      "text/plain": [
       "        Date       Price\n",
       "0 2000-01-31  219.942449\n",
       "1 2000-02-29  275.117647\n",
       "2 2000-03-31  263.198203\n",
       "3 2000-04-30  253.428767\n",
       "4 2000-05-31  215.742602"
      ]
     },
     "execution_count": 53,
     "metadata": {},
     "output_type": "execute_result"
    }
   ],
   "source": [
    "data = pd.read_csv('C:/Users/INTEL/Desktop/Books/Tensorflow/Machine Learning Codes/Exercise Files/data/monthly_price.csv',parse_dates=['Date'])\n",
    "data.head()"
   ]
  },
  {
   "cell_type": "code",
   "execution_count": 55,
   "metadata": {},
   "outputs": [
    {
     "data": {
      "text/html": [
       "<div>\n",
       "<style>\n",
       "    .dataframe thead tr:only-child th {\n",
       "        text-align: right;\n",
       "    }\n",
       "\n",
       "    .dataframe thead th {\n",
       "        text-align: left;\n",
       "    }\n",
       "\n",
       "    .dataframe tbody tr th {\n",
       "        vertical-align: top;\n",
       "    }\n",
       "</style>\n",
       "<table border=\"1\" class=\"dataframe\">\n",
       "  <thead>\n",
       "    <tr style=\"text-align: right;\">\n",
       "      <th></th>\n",
       "      <th>Date</th>\n",
       "      <th>Price</th>\n",
       "    </tr>\n",
       "  </thead>\n",
       "  <tbody>\n",
       "    <tr>\n",
       "      <th>67</th>\n",
       "      <td>2005-08-31</td>\n",
       "      <td>305.240185</td>\n",
       "    </tr>\n",
       "    <tr>\n",
       "      <th>68</th>\n",
       "      <td>2005-09-30</td>\n",
       "      <td>315.102514</td>\n",
       "    </tr>\n",
       "    <tr>\n",
       "      <th>69</th>\n",
       "      <td>2005-10-31</td>\n",
       "      <td>323.380634</td>\n",
       "    </tr>\n",
       "    <tr>\n",
       "      <th>70</th>\n",
       "      <td>2005-11-30</td>\n",
       "      <td>334.474315</td>\n",
       "    </tr>\n",
       "    <tr>\n",
       "      <th>71</th>\n",
       "      <td>2005-12-31</td>\n",
       "      <td>379.632000</td>\n",
       "    </tr>\n",
       "  </tbody>\n",
       "</table>\n",
       "</div>"
      ],
      "text/plain": [
       "         Date       Price\n",
       "67 2005-08-31  305.240185\n",
       "68 2005-09-30  315.102514\n",
       "69 2005-10-31  323.380634\n",
       "70 2005-11-30  334.474315\n",
       "71 2005-12-31  379.632000"
      ]
     },
     "execution_count": 55,
     "metadata": {},
     "output_type": "execute_result"
    }
   ],
   "source": [
    "data.tail()"
   ]
  },
  {
   "cell_type": "markdown",
   "metadata": {},
   "source": [
    "When we observe the data, it contains one entry for each month for 6 years. So first we need to get rid of day from date"
   ]
  },
  {
   "cell_type": "code",
   "execution_count": 56,
   "metadata": {
    "collapsed": true
   },
   "outputs": [],
   "source": [
    "#First take year and month from the date\n",
    "data['Year'] = data.Date.dt.year \n",
    "data['Month'] = data.Date.dt.month"
   ]
  },
  {
   "cell_type": "code",
   "execution_count": 57,
   "metadata": {},
   "outputs": [
    {
     "data": {
      "text/html": [
       "<div>\n",
       "<style>\n",
       "    .dataframe thead tr:only-child th {\n",
       "        text-align: right;\n",
       "    }\n",
       "\n",
       "    .dataframe thead th {\n",
       "        text-align: left;\n",
       "    }\n",
       "\n",
       "    .dataframe tbody tr th {\n",
       "        vertical-align: top;\n",
       "    }\n",
       "</style>\n",
       "<table border=\"1\" class=\"dataframe\">\n",
       "  <thead>\n",
       "    <tr style=\"text-align: right;\">\n",
       "      <th></th>\n",
       "      <th>Date</th>\n",
       "      <th>Price</th>\n",
       "      <th>Year</th>\n",
       "      <th>Month</th>\n",
       "    </tr>\n",
       "  </thead>\n",
       "  <tbody>\n",
       "    <tr>\n",
       "      <th>0</th>\n",
       "      <td>2000-01-31</td>\n",
       "      <td>219.942449</td>\n",
       "      <td>2000</td>\n",
       "      <td>1</td>\n",
       "    </tr>\n",
       "    <tr>\n",
       "      <th>1</th>\n",
       "      <td>2000-02-29</td>\n",
       "      <td>275.117647</td>\n",
       "      <td>2000</td>\n",
       "      <td>2</td>\n",
       "    </tr>\n",
       "    <tr>\n",
       "      <th>2</th>\n",
       "      <td>2000-03-31</td>\n",
       "      <td>263.198203</td>\n",
       "      <td>2000</td>\n",
       "      <td>3</td>\n",
       "    </tr>\n",
       "    <tr>\n",
       "      <th>3</th>\n",
       "      <td>2000-04-30</td>\n",
       "      <td>253.428767</td>\n",
       "      <td>2000</td>\n",
       "      <td>4</td>\n",
       "    </tr>\n",
       "    <tr>\n",
       "      <th>4</th>\n",
       "      <td>2000-05-31</td>\n",
       "      <td>215.742602</td>\n",
       "      <td>2000</td>\n",
       "      <td>5</td>\n",
       "    </tr>\n",
       "  </tbody>\n",
       "</table>\n",
       "</div>"
      ],
      "text/plain": [
       "        Date       Price  Year  Month\n",
       "0 2000-01-31  219.942449  2000      1\n",
       "1 2000-02-29  275.117647  2000      2\n",
       "2 2000-03-31  263.198203  2000      3\n",
       "3 2000-04-30  253.428767  2000      4\n",
       "4 2000-05-31  215.742602  2000      5"
      ]
     },
     "execution_count": 57,
     "metadata": {},
     "output_type": "execute_result"
    }
   ],
   "source": [
    "data.head()"
   ]
  },
  {
   "cell_type": "code",
   "execution_count": 59,
   "metadata": {},
   "outputs": [
    {
     "name": "stdout",
     "output_type": "stream",
     "text": [
      "0 Date     2000-01-31\n",
      "Price       219.942\n",
      "Year           2000\n",
      "Month             1\n",
      "Name: 0, dtype: object\n",
      "1 Date     2000-02-29\n",
      "Price       275.118\n",
      "Year           2000\n",
      "Month             2\n",
      "Name: 1, dtype: object\n",
      "2 Date     2000-03-31\n",
      "Price       263.198\n",
      "Year           2000\n",
      "Month             3\n",
      "Name: 2, dtype: object\n",
      "3 Date     2000-04-30\n",
      "Price       253.429\n",
      "Year           2000\n",
      "Month             4\n",
      "Name: 3, dtype: object\n",
      "4 Date     2000-05-31\n",
      "Price       215.743\n",
      "Year           2000\n",
      "Month             5\n",
      "Name: 4, dtype: object\n",
      "5 Date     2000-06-30\n",
      "Price       261.096\n",
      "Year           2000\n",
      "Month             6\n",
      "Name: 5, dtype: object\n",
      "6 Date     2000-07-31\n",
      "Price       213.314\n",
      "Year           2000\n",
      "Month             7\n",
      "Name: 6, dtype: object\n",
      "7 Date     2000-08-31\n",
      "Price       263.704\n",
      "Year           2000\n",
      "Month             8\n",
      "Name: 7, dtype: object\n",
      "8 Date     2000-09-30\n",
      "Price       233.687\n",
      "Year           2000\n",
      "Month             9\n",
      "Name: 8, dtype: object\n",
      "9 Date     2000-10-31\n",
      "Price       221.363\n",
      "Year           2000\n",
      "Month            10\n",
      "Name: 9, dtype: object\n",
      "10 Date     2000-11-30\n",
      "Price       221.518\n",
      "Year           2000\n",
      "Month            11\n",
      "Name: 10, dtype: object\n",
      "11 Date     2000-12-31\n",
      "Price       177.455\n",
      "Year           2000\n",
      "Month            12\n",
      "Name: 11, dtype: object\n",
      "12 Date     2001-01-31\n",
      "Price         210.6\n",
      "Year           2001\n",
      "Month             1\n",
      "Name: 12, dtype: object\n",
      "13 Date     2001-02-28\n",
      "Price       187.125\n",
      "Year           2001\n",
      "Month             2\n",
      "Name: 13, dtype: object\n",
      "14 Date     2001-03-31\n",
      "Price       120.377\n",
      "Year           2001\n",
      "Month             3\n",
      "Name: 14, dtype: object\n",
      "15 Date     2001-04-30\n",
      "Price       118.013\n",
      "Year           2001\n",
      "Month             4\n",
      "Name: 15, dtype: object\n",
      "16 Date     2001-05-31\n",
      "Price       122.284\n",
      "Year           2001\n",
      "Month             5\n",
      "Name: 16, dtype: object\n",
      "17 Date     2001-06-30\n",
      "Price       117.955\n",
      "Year           2001\n",
      "Month             6\n",
      "Name: 17, dtype: object\n",
      "18 Date     2001-07-31\n",
      "Price       120.734\n",
      "Year           2001\n",
      "Month             7\n",
      "Name: 18, dtype: object\n",
      "19 Date     2001-08-31\n",
      "Price       118.759\n",
      "Year           2001\n",
      "Month             8\n",
      "Name: 19, dtype: object\n",
      "20 Date     2001-09-30\n",
      "Price       72.5324\n",
      "Year           2001\n",
      "Month             9\n",
      "Name: 20, dtype: object\n",
      "21 Date     2001-10-31\n",
      "Price       90.9047\n",
      "Year           2001\n",
      "Month            10\n",
      "Name: 21, dtype: object\n",
      "22 Date     2001-11-30\n",
      "Price       114.164\n",
      "Year           2001\n",
      "Month            11\n",
      "Name: 22, dtype: object\n",
      "23 Date     2001-12-31\n",
      "Price       124.524\n",
      "Year           2001\n",
      "Month            12\n",
      "Name: 23, dtype: object\n",
      "24 Date     2002-01-31\n",
      "Price       119.586\n",
      "Year           2002\n",
      "Month             1\n",
      "Name: 24, dtype: object\n",
      "25 Date     2002-02-28\n",
      "Price       107.263\n",
      "Year           2002\n",
      "Month             2\n",
      "Name: 25, dtype: object\n",
      "26 Date     2002-03-31\n",
      "Price        123.23\n",
      "Year           2002\n",
      "Month             3\n",
      "Name: 26, dtype: object\n",
      "27 Date     2002-04-30\n",
      "Price       112.827\n",
      "Year           2002\n",
      "Month             4\n",
      "Name: 27, dtype: object\n",
      "28 Date     2002-05-31\n",
      "Price       107.871\n",
      "Year           2002\n",
      "Month             5\n",
      "Name: 28, dtype: object\n",
      "29 Date     2002-06-30\n",
      "Price       102.481\n",
      "Year           2002\n",
      "Month             6\n",
      "Name: 29, dtype: object\n",
      "30 Date     2002-07-31\n",
      "Price       95.8382\n",
      "Year           2002\n",
      "Month             7\n",
      "Name: 30, dtype: object\n",
      "31 Date     2002-08-31\n",
      "Price       114.338\n",
      "Year           2002\n",
      "Month             8\n",
      "Name: 31, dtype: object\n",
      "32 Date     2002-09-30\n",
      "Price       106.899\n",
      "Year           2002\n",
      "Month             9\n",
      "Name: 32, dtype: object\n",
      "33 Date     2002-10-31\n",
      "Price       114.262\n",
      "Year           2002\n",
      "Month            10\n",
      "Name: 33, dtype: object\n",
      "34 Date     2002-11-30\n",
      "Price       141.478\n",
      "Year           2002\n",
      "Month            11\n",
      "Name: 34, dtype: object\n",
      "35 Date     2002-12-31\n",
      "Price       149.954\n",
      "Year           2002\n",
      "Month            12\n",
      "Name: 35, dtype: object\n",
      "36 Date     2003-01-31\n",
      "Price       133.394\n",
      "Year           2003\n",
      "Month             1\n",
      "Name: 36, dtype: object\n",
      "37 Date     2003-02-28\n",
      "Price       135.085\n",
      "Year           2003\n",
      "Month             2\n",
      "Name: 37, dtype: object\n",
      "38 Date     2003-03-31\n",
      "Price       121.277\n",
      "Year           2003\n",
      "Month             3\n",
      "Name: 38, dtype: object\n",
      "39 Date     2003-04-30\n",
      "Price       82.4265\n",
      "Year           2003\n",
      "Month             4\n",
      "Name: 39, dtype: object\n",
      "40 Date     2003-05-31\n",
      "Price         86.51\n",
      "Year           2003\n",
      "Month             5\n",
      "Name: 40, dtype: object\n",
      "41 Date     2003-06-30\n",
      "Price       98.2163\n",
      "Year           2003\n",
      "Month             6\n",
      "Name: 41, dtype: object\n",
      "42 Date     2003-07-31\n",
      "Price       117.968\n",
      "Year           2003\n",
      "Month             7\n",
      "Name: 42, dtype: object\n",
      "43 Date     2003-08-31\n",
      "Price       127.001\n",
      "Year           2003\n",
      "Month             8\n",
      "Name: 43, dtype: object\n",
      "44 Date     2003-09-30\n",
      "Price       138.511\n",
      "Year           2003\n",
      "Month             9\n",
      "Name: 44, dtype: object\n",
      "45 Date     2003-10-31\n",
      "Price       147.333\n",
      "Year           2003\n",
      "Month            10\n",
      "Name: 45, dtype: object\n",
      "46 Date     2003-11-30\n",
      "Price       150.415\n",
      "Year           2003\n",
      "Month            11\n",
      "Name: 46, dtype: object\n",
      "47 Date     2003-12-31\n",
      "Price       172.633\n",
      "Year           2003\n",
      "Month            12\n",
      "Name: 47, dtype: object\n",
      "48 Date     2004-01-31\n",
      "Price       167.877\n",
      "Year           2004\n",
      "Month             1\n",
      "Name: 48, dtype: object\n",
      "49 Date     2004-02-29\n",
      "Price       151.634\n",
      "Year           2004\n",
      "Month             2\n",
      "Name: 49, dtype: object\n",
      "50 Date     2004-03-31\n",
      "Price       157.079\n",
      "Year           2004\n",
      "Month             3\n",
      "Name: 50, dtype: object\n",
      "51 Date     2004-04-30\n",
      "Price       161.116\n",
      "Year           2004\n",
      "Month             4\n",
      "Name: 51, dtype: object\n",
      "52 Date     2004-05-31\n",
      "Price       161.614\n",
      "Year           2004\n",
      "Month             5\n",
      "Name: 52, dtype: object\n",
      "53 Date     2004-06-30\n",
      "Price       169.627\n",
      "Year           2004\n",
      "Month             6\n",
      "Name: 53, dtype: object\n",
      "54 Date     2004-07-31\n",
      "Price       196.629\n",
      "Year           2004\n",
      "Month             7\n",
      "Name: 54, dtype: object\n",
      "55 Date     2004-08-31\n",
      "Price       193.257\n",
      "Year           2004\n",
      "Month             8\n",
      "Name: 55, dtype: object\n",
      "56 Date     2004-09-30\n",
      "Price       214.982\n",
      "Year           2004\n",
      "Month             9\n",
      "Name: 56, dtype: object\n",
      "57 Date     2004-10-31\n",
      "Price        235.53\n",
      "Year           2004\n",
      "Month            10\n",
      "Name: 57, dtype: object\n",
      "58 Date     2004-11-30\n",
      "Price       265.953\n",
      "Year           2004\n",
      "Month            11\n",
      "Name: 58, dtype: object\n",
      "59 Date     2004-12-31\n",
      "Price       264.618\n",
      "Year           2004\n",
      "Month            12\n",
      "Name: 59, dtype: object\n",
      "60 Date     2005-01-31\n",
      "Price       263.688\n",
      "Year           2005\n",
      "Month             1\n",
      "Name: 60, dtype: object\n",
      "61 Date     2005-02-28\n",
      "Price       282.279\n",
      "Year           2005\n",
      "Month             2\n",
      "Name: 61, dtype: object\n",
      "62 Date     2005-03-31\n",
      "Price       276.986\n",
      "Year           2005\n",
      "Month             3\n",
      "Name: 62, dtype: object\n",
      "63 Date     2005-04-30\n",
      "Price       239.106\n",
      "Year           2005\n",
      "Month             4\n",
      "Name: 63, dtype: object\n",
      "64 Date     2005-05-31\n",
      "Price        284.34\n",
      "Year           2005\n",
      "Month             5\n",
      "Name: 64, dtype: object\n",
      "65 Date     2005-06-30\n",
      "Price       290.197\n",
      "Year           2005\n",
      "Month             6\n",
      "Name: 65, dtype: object\n",
      "66 Date     2005-07-31\n",
      "Price       285.952\n",
      "Year           2005\n",
      "Month             7\n",
      "Name: 66, dtype: object\n",
      "67 Date     2005-08-31\n",
      "Price        305.24\n",
      "Year           2005\n",
      "Month             8\n",
      "Name: 67, dtype: object\n",
      "68 Date     2005-09-30\n",
      "Price       315.103\n",
      "Year           2005\n",
      "Month             9\n",
      "Name: 68, dtype: object\n",
      "69 Date     2005-10-31\n",
      "Price       323.381\n",
      "Year           2005\n",
      "Month            10\n",
      "Name: 69, dtype: object\n",
      "70 Date     2005-11-30\n",
      "Price       334.474\n",
      "Year           2005\n",
      "Month            11\n",
      "Name: 70, dtype: object\n",
      "71 Date     2005-12-31\n",
      "Price       379.632\n",
      "Year           2005\n",
      "Month            12\n",
      "Name: 71, dtype: object\n"
     ]
    }
   ],
   "source": [
    "#Change Date coloumn\n",
    "data['Date'] = data['Date'].astype(str)\n",
    "for index,row in data.iterrows():\n",
    "    print(index,row)\n",
    "    #data.set_value(index, col, value, takeable=False) --> Put single value at passed column and index\n",
    "    data.set_value(index,'Date',str(row['Year']) + '-' + str(row['Month']))"
   ]
  },
  {
   "cell_type": "code",
   "execution_count": 60,
   "metadata": {},
   "outputs": [
    {
     "data": {
      "text/html": [
       "<div>\n",
       "<style>\n",
       "    .dataframe thead tr:only-child th {\n",
       "        text-align: right;\n",
       "    }\n",
       "\n",
       "    .dataframe thead th {\n",
       "        text-align: left;\n",
       "    }\n",
       "\n",
       "    .dataframe tbody tr th {\n",
       "        vertical-align: top;\n",
       "    }\n",
       "</style>\n",
       "<table border=\"1\" class=\"dataframe\">\n",
       "  <thead>\n",
       "    <tr style=\"text-align: right;\">\n",
       "      <th></th>\n",
       "      <th>Date</th>\n",
       "      <th>Price</th>\n",
       "      <th>Year</th>\n",
       "      <th>Month</th>\n",
       "    </tr>\n",
       "  </thead>\n",
       "  <tbody>\n",
       "    <tr>\n",
       "      <th>0</th>\n",
       "      <td>2000-1</td>\n",
       "      <td>219.942449</td>\n",
       "      <td>2000</td>\n",
       "      <td>1</td>\n",
       "    </tr>\n",
       "    <tr>\n",
       "      <th>1</th>\n",
       "      <td>2000-2</td>\n",
       "      <td>275.117647</td>\n",
       "      <td>2000</td>\n",
       "      <td>2</td>\n",
       "    </tr>\n",
       "    <tr>\n",
       "      <th>2</th>\n",
       "      <td>2000-3</td>\n",
       "      <td>263.198203</td>\n",
       "      <td>2000</td>\n",
       "      <td>3</td>\n",
       "    </tr>\n",
       "    <tr>\n",
       "      <th>3</th>\n",
       "      <td>2000-4</td>\n",
       "      <td>253.428767</td>\n",
       "      <td>2000</td>\n",
       "      <td>4</td>\n",
       "    </tr>\n",
       "    <tr>\n",
       "      <th>4</th>\n",
       "      <td>2000-5</td>\n",
       "      <td>215.742602</td>\n",
       "      <td>2000</td>\n",
       "      <td>5</td>\n",
       "    </tr>\n",
       "  </tbody>\n",
       "</table>\n",
       "</div>"
      ],
      "text/plain": [
       "     Date       Price  Year  Month\n",
       "0  2000-1  219.942449  2000      1\n",
       "1  2000-2  275.117647  2000      2\n",
       "2  2000-3  263.198203  2000      3\n",
       "3  2000-4  253.428767  2000      4\n",
       "4  2000-5  215.742602  2000      5"
      ]
     },
     "execution_count": 60,
     "metadata": {},
     "output_type": "execute_result"
    }
   ],
   "source": [
    "data.head()"
   ]
  },
  {
   "cell_type": "code",
   "execution_count": 61,
   "metadata": {
    "collapsed": true
   },
   "outputs": [],
   "source": [
    "#Delete year and month column as these are not needed anymore\n",
    "del data['Month']\n",
    "del data['Year']"
   ]
  },
  {
   "cell_type": "code",
   "execution_count": 62,
   "metadata": {},
   "outputs": [
    {
     "data": {
      "text/html": [
       "<div>\n",
       "<style>\n",
       "    .dataframe thead tr:only-child th {\n",
       "        text-align: right;\n",
       "    }\n",
       "\n",
       "    .dataframe thead th {\n",
       "        text-align: left;\n",
       "    }\n",
       "\n",
       "    .dataframe tbody tr th {\n",
       "        vertical-align: top;\n",
       "    }\n",
       "</style>\n",
       "<table border=\"1\" class=\"dataframe\">\n",
       "  <thead>\n",
       "    <tr style=\"text-align: right;\">\n",
       "      <th></th>\n",
       "      <th>Date</th>\n",
       "      <th>Price</th>\n",
       "    </tr>\n",
       "  </thead>\n",
       "  <tbody>\n",
       "    <tr>\n",
       "      <th>0</th>\n",
       "      <td>2000-1</td>\n",
       "      <td>219.942449</td>\n",
       "    </tr>\n",
       "    <tr>\n",
       "      <th>1</th>\n",
       "      <td>2000-2</td>\n",
       "      <td>275.117647</td>\n",
       "    </tr>\n",
       "    <tr>\n",
       "      <th>2</th>\n",
       "      <td>2000-3</td>\n",
       "      <td>263.198203</td>\n",
       "    </tr>\n",
       "    <tr>\n",
       "      <th>3</th>\n",
       "      <td>2000-4</td>\n",
       "      <td>253.428767</td>\n",
       "    </tr>\n",
       "    <tr>\n",
       "      <th>4</th>\n",
       "      <td>2000-5</td>\n",
       "      <td>215.742602</td>\n",
       "    </tr>\n",
       "  </tbody>\n",
       "</table>\n",
       "</div>"
      ],
      "text/plain": [
       "     Date       Price\n",
       "0  2000-1  219.942449\n",
       "1  2000-2  275.117647\n",
       "2  2000-3  263.198203\n",
       "3  2000-4  253.428767\n",
       "4  2000-5  215.742602"
      ]
     },
     "execution_count": 62,
     "metadata": {},
     "output_type": "execute_result"
    }
   ],
   "source": [
    "data.head()"
   ]
  },
  {
   "cell_type": "code",
   "execution_count": 64,
   "metadata": {},
   "outputs": [
    {
     "data": {
      "text/plain": [
       "Date      object\n",
       "Price    float64\n",
       "dtype: object"
      ]
     },
     "execution_count": 64,
     "metadata": {},
     "output_type": "execute_result"
    }
   ],
   "source": [
    "data.dtypes"
   ]
  },
  {
   "cell_type": "markdown",
   "metadata": {},
   "source": [
    "All the above operation can be consolidated and performed using single operation.\n",
    "This is called resampling of data. In pandas we have lot of functions to resample data."
   ]
  },
  {
   "cell_type": "code",
   "execution_count": 80,
   "metadata": {},
   "outputs": [
    {
     "data": {
      "text/html": [
       "<div>\n",
       "<style>\n",
       "    .dataframe thead tr:only-child th {\n",
       "        text-align: right;\n",
       "    }\n",
       "\n",
       "    .dataframe thead th {\n",
       "        text-align: left;\n",
       "    }\n",
       "\n",
       "    .dataframe tbody tr th {\n",
       "        vertical-align: top;\n",
       "    }\n",
       "</style>\n",
       "<table border=\"1\" class=\"dataframe\">\n",
       "  <thead>\n",
       "    <tr style=\"text-align: right;\">\n",
       "      <th></th>\n",
       "      <th>Date</th>\n",
       "      <th>Price</th>\n",
       "    </tr>\n",
       "  </thead>\n",
       "  <tbody>\n",
       "    <tr>\n",
       "      <th>0</th>\n",
       "      <td>1/31/2000</td>\n",
       "      <td>219.942449</td>\n",
       "    </tr>\n",
       "    <tr>\n",
       "      <th>1</th>\n",
       "      <td>2/29/2000</td>\n",
       "      <td>275.117647</td>\n",
       "    </tr>\n",
       "    <tr>\n",
       "      <th>2</th>\n",
       "      <td>3/31/2000</td>\n",
       "      <td>263.198203</td>\n",
       "    </tr>\n",
       "    <tr>\n",
       "      <th>3</th>\n",
       "      <td>4/30/2000</td>\n",
       "      <td>253.428767</td>\n",
       "    </tr>\n",
       "    <tr>\n",
       "      <th>4</th>\n",
       "      <td>5/31/2000</td>\n",
       "      <td>215.742602</td>\n",
       "    </tr>\n",
       "  </tbody>\n",
       "</table>\n",
       "</div>"
      ],
      "text/plain": [
       "        Date       Price\n",
       "0  1/31/2000  219.942449\n",
       "1  2/29/2000  275.117647\n",
       "2  3/31/2000  263.198203\n",
       "3  4/30/2000  253.428767\n",
       "4  5/31/2000  215.742602"
      ]
     },
     "execution_count": 80,
     "metadata": {},
     "output_type": "execute_result"
    }
   ],
   "source": [
    "data = pd.read_csv('C:/Users/INTEL/Desktop/Books/Tensorflow/Machine Learning Codes/Exercise Files/data/monthly_price.csv')\n",
    "data.head()"
   ]
  },
  {
   "cell_type": "code",
   "execution_count": 81,
   "metadata": {},
   "outputs": [
    {
     "data": {
      "text/html": [
       "<div>\n",
       "<style>\n",
       "    .dataframe thead tr:only-child th {\n",
       "        text-align: right;\n",
       "    }\n",
       "\n",
       "    .dataframe thead th {\n",
       "        text-align: left;\n",
       "    }\n",
       "\n",
       "    .dataframe tbody tr th {\n",
       "        vertical-align: top;\n",
       "    }\n",
       "</style>\n",
       "<table border=\"1\" class=\"dataframe\">\n",
       "  <thead>\n",
       "    <tr style=\"text-align: right;\">\n",
       "      <th></th>\n",
       "      <th>Date</th>\n",
       "      <th>Price</th>\n",
       "    </tr>\n",
       "  </thead>\n",
       "  <tbody>\n",
       "    <tr>\n",
       "      <th>0</th>\n",
       "      <td>2000-01-31</td>\n",
       "      <td>219.942449</td>\n",
       "    </tr>\n",
       "    <tr>\n",
       "      <th>1</th>\n",
       "      <td>2000-02-29</td>\n",
       "      <td>275.117647</td>\n",
       "    </tr>\n",
       "    <tr>\n",
       "      <th>2</th>\n",
       "      <td>2000-03-31</td>\n",
       "      <td>263.198203</td>\n",
       "    </tr>\n",
       "    <tr>\n",
       "      <th>3</th>\n",
       "      <td>2000-04-30</td>\n",
       "      <td>253.428767</td>\n",
       "    </tr>\n",
       "    <tr>\n",
       "      <th>4</th>\n",
       "      <td>2000-05-31</td>\n",
       "      <td>215.742602</td>\n",
       "    </tr>\n",
       "  </tbody>\n",
       "</table>\n",
       "</div>"
      ],
      "text/plain": [
       "        Date       Price\n",
       "0 2000-01-31  219.942449\n",
       "1 2000-02-29  275.117647\n",
       "2 2000-03-31  263.198203\n",
       "3 2000-04-30  253.428767\n",
       "4 2000-05-31  215.742602"
      ]
     },
     "execution_count": 81,
     "metadata": {},
     "output_type": "execute_result"
    }
   ],
   "source": [
    "data['Date'] = pd.to_datetime(data['Date'])\n",
    "data.head()"
   ]
  },
  {
   "cell_type": "code",
   "execution_count": 82,
   "metadata": {},
   "outputs": [],
   "source": [
    "#Converts DatetimeIndex to PeriodIndex based on a certain frequency\n",
    "data['Date'] = data['Date'].dt.to_period('M')"
   ]
  },
  {
   "cell_type": "code",
   "execution_count": 83,
   "metadata": {},
   "outputs": [
    {
     "data": {
      "text/html": [
       "<div>\n",
       "<style>\n",
       "    .dataframe thead tr:only-child th {\n",
       "        text-align: right;\n",
       "    }\n",
       "\n",
       "    .dataframe thead th {\n",
       "        text-align: left;\n",
       "    }\n",
       "\n",
       "    .dataframe tbody tr th {\n",
       "        vertical-align: top;\n",
       "    }\n",
       "</style>\n",
       "<table border=\"1\" class=\"dataframe\">\n",
       "  <thead>\n",
       "    <tr style=\"text-align: right;\">\n",
       "      <th></th>\n",
       "      <th>Date</th>\n",
       "      <th>Price</th>\n",
       "    </tr>\n",
       "  </thead>\n",
       "  <tbody>\n",
       "    <tr>\n",
       "      <th>0</th>\n",
       "      <td>2000-01</td>\n",
       "      <td>219.942449</td>\n",
       "    </tr>\n",
       "    <tr>\n",
       "      <th>1</th>\n",
       "      <td>2000-02</td>\n",
       "      <td>275.117647</td>\n",
       "    </tr>\n",
       "    <tr>\n",
       "      <th>2</th>\n",
       "      <td>2000-03</td>\n",
       "      <td>263.198203</td>\n",
       "    </tr>\n",
       "    <tr>\n",
       "      <th>3</th>\n",
       "      <td>2000-04</td>\n",
       "      <td>253.428767</td>\n",
       "    </tr>\n",
       "    <tr>\n",
       "      <th>4</th>\n",
       "      <td>2000-05</td>\n",
       "      <td>215.742602</td>\n",
       "    </tr>\n",
       "  </tbody>\n",
       "</table>\n",
       "</div>"
      ],
      "text/plain": [
       "     Date       Price\n",
       "0 2000-01  219.942449\n",
       "1 2000-02  275.117647\n",
       "2 2000-03  263.198203\n",
       "3 2000-04  253.428767\n",
       "4 2000-05  215.742602"
      ]
     },
     "execution_count": 83,
     "metadata": {},
     "output_type": "execute_result"
    }
   ],
   "source": [
    "data.head()"
   ]
  },
  {
   "cell_type": "markdown",
   "metadata": {},
   "source": [
    "# Understand Resampling"
   ]
  },
  {
   "cell_type": "code",
   "execution_count": 86,
   "metadata": {},
   "outputs": [],
   "source": [
    "#below code will generate a dataframe with 20 timestamps starting from 2018 July 1st with an hourly frequency\n",
    "first_series = pd.DataFrame({'Date' : pd.date_range('06/01/2017', periods = 20, freq = 'H'), \n",
    "                                 'Count':list(range(20))},columns=['Date','Count'])"
   ]
  },
  {
   "cell_type": "code",
   "execution_count": 87,
   "metadata": {},
   "outputs": [
    {
     "data": {
      "text/html": [
       "<div>\n",
       "<style>\n",
       "    .dataframe thead tr:only-child th {\n",
       "        text-align: right;\n",
       "    }\n",
       "\n",
       "    .dataframe thead th {\n",
       "        text-align: left;\n",
       "    }\n",
       "\n",
       "    .dataframe tbody tr th {\n",
       "        vertical-align: top;\n",
       "    }\n",
       "</style>\n",
       "<table border=\"1\" class=\"dataframe\">\n",
       "  <thead>\n",
       "    <tr style=\"text-align: right;\">\n",
       "      <th></th>\n",
       "      <th>Date</th>\n",
       "      <th>Count</th>\n",
       "    </tr>\n",
       "  </thead>\n",
       "  <tbody>\n",
       "    <tr>\n",
       "      <th>0</th>\n",
       "      <td>2017-06-01 00:00:00</td>\n",
       "      <td>0</td>\n",
       "    </tr>\n",
       "    <tr>\n",
       "      <th>1</th>\n",
       "      <td>2017-06-01 01:00:00</td>\n",
       "      <td>1</td>\n",
       "    </tr>\n",
       "    <tr>\n",
       "      <th>2</th>\n",
       "      <td>2017-06-01 02:00:00</td>\n",
       "      <td>2</td>\n",
       "    </tr>\n",
       "    <tr>\n",
       "      <th>3</th>\n",
       "      <td>2017-06-01 03:00:00</td>\n",
       "      <td>3</td>\n",
       "    </tr>\n",
       "    <tr>\n",
       "      <th>4</th>\n",
       "      <td>2017-06-01 04:00:00</td>\n",
       "      <td>4</td>\n",
       "    </tr>\n",
       "  </tbody>\n",
       "</table>\n",
       "</div>"
      ],
      "text/plain": [
       "                 Date  Count\n",
       "0 2017-06-01 00:00:00      0\n",
       "1 2017-06-01 01:00:00      1\n",
       "2 2017-06-01 02:00:00      2\n",
       "3 2017-06-01 03:00:00      3\n",
       "4 2017-06-01 04:00:00      4"
      ]
     },
     "execution_count": 87,
     "metadata": {},
     "output_type": "execute_result"
    }
   ],
   "source": [
    "first_series.head()"
   ]
  },
  {
   "cell_type": "code",
   "execution_count": 88,
   "metadata": {},
   "outputs": [
    {
     "data": {
      "text/html": [
       "<div>\n",
       "<style>\n",
       "    .dataframe thead tr:only-child th {\n",
       "        text-align: right;\n",
       "    }\n",
       "\n",
       "    .dataframe thead th {\n",
       "        text-align: left;\n",
       "    }\n",
       "\n",
       "    .dataframe tbody tr th {\n",
       "        vertical-align: top;\n",
       "    }\n",
       "</style>\n",
       "<table border=\"1\" class=\"dataframe\">\n",
       "  <thead>\n",
       "    <tr style=\"text-align: right;\">\n",
       "      <th></th>\n",
       "      <th>Count</th>\n",
       "    </tr>\n",
       "    <tr>\n",
       "      <th>Date</th>\n",
       "      <th></th>\n",
       "    </tr>\n",
       "  </thead>\n",
       "  <tbody>\n",
       "    <tr>\n",
       "      <th>2017-06-01 00:00:00</th>\n",
       "      <td>0</td>\n",
       "    </tr>\n",
       "    <tr>\n",
       "      <th>2017-06-01 01:00:00</th>\n",
       "      <td>1</td>\n",
       "    </tr>\n",
       "    <tr>\n",
       "      <th>2017-06-01 02:00:00</th>\n",
       "      <td>2</td>\n",
       "    </tr>\n",
       "    <tr>\n",
       "      <th>2017-06-01 03:00:00</th>\n",
       "      <td>3</td>\n",
       "    </tr>\n",
       "    <tr>\n",
       "      <th>2017-06-01 04:00:00</th>\n",
       "      <td>4</td>\n",
       "    </tr>\n",
       "  </tbody>\n",
       "</table>\n",
       "</div>"
      ],
      "text/plain": [
       "                     Count\n",
       "Date                      \n",
       "2017-06-01 00:00:00      0\n",
       "2017-06-01 01:00:00      1\n",
       "2017-06-01 02:00:00      2\n",
       "2017-06-01 03:00:00      3\n",
       "2017-06-01 04:00:00      4"
      ]
     },
     "execution_count": 88,
     "metadata": {},
     "output_type": "execute_result"
    }
   ],
   "source": [
    "#set Date column as index\n",
    "first_series = first_series.set_index('Date')\n",
    "first_series.head()"
   ]
  },
  {
   "cell_type": "code",
   "execution_count": 90,
   "metadata": {},
   "outputs": [
    {
     "data": {
      "text/html": [
       "<div>\n",
       "<style>\n",
       "    .dataframe thead tr:only-child th {\n",
       "        text-align: right;\n",
       "    }\n",
       "\n",
       "    .dataframe thead th {\n",
       "        text-align: left;\n",
       "    }\n",
       "\n",
       "    .dataframe tbody tr th {\n",
       "        vertical-align: top;\n",
       "    }\n",
       "</style>\n",
       "<table border=\"1\" class=\"dataframe\">\n",
       "  <thead>\n",
       "    <tr style=\"text-align: right;\">\n",
       "      <th></th>\n",
       "      <th>Count</th>\n",
       "    </tr>\n",
       "    <tr>\n",
       "      <th>Date</th>\n",
       "      <th></th>\n",
       "    </tr>\n",
       "  </thead>\n",
       "  <tbody>\n",
       "    <tr>\n",
       "      <th>2017-06-01 00:00:00</th>\n",
       "      <td>0</td>\n",
       "    </tr>\n",
       "    <tr>\n",
       "      <th>2017-06-01 00:40:00</th>\n",
       "      <td>0</td>\n",
       "    </tr>\n",
       "    <tr>\n",
       "      <th>2017-06-01 01:20:00</th>\n",
       "      <td>1</td>\n",
       "    </tr>\n",
       "    <tr>\n",
       "      <th>2017-06-01 02:00:00</th>\n",
       "      <td>2</td>\n",
       "    </tr>\n",
       "    <tr>\n",
       "      <th>2017-06-01 02:40:00</th>\n",
       "      <td>2</td>\n",
       "    </tr>\n",
       "  </tbody>\n",
       "</table>\n",
       "</div>"
      ],
      "text/plain": [
       "                     Count\n",
       "Date                      \n",
       "2017-06-01 00:00:00      0\n",
       "2017-06-01 00:40:00      0\n",
       "2017-06-01 01:20:00      1\n",
       "2017-06-01 02:00:00      2\n",
       "2017-06-01 02:40:00      2"
      ]
     },
     "execution_count": 90,
     "metadata": {},
     "output_type": "execute_result"
    }
   ],
   "source": [
    "#create another series with data interval as 40 minutes instead of 1 hour\n",
    "#ffill ---> forward fill. fills the data points in a forward manner.\n",
    "#It adds new data rows with immediate information ahead\n",
    "second_series = first_series.asfreq('40 min',method='ffill')\n",
    "second_series.head()"
   ]
  },
  {
   "cell_type": "code",
   "execution_count": 91,
   "metadata": {},
   "outputs": [
    {
     "data": {
      "text/html": [
       "<div>\n",
       "<style>\n",
       "    .dataframe thead tr:only-child th {\n",
       "        text-align: right;\n",
       "    }\n",
       "\n",
       "    .dataframe thead th {\n",
       "        text-align: left;\n",
       "    }\n",
       "\n",
       "    .dataframe tbody tr th {\n",
       "        vertical-align: top;\n",
       "    }\n",
       "</style>\n",
       "<table border=\"1\" class=\"dataframe\">\n",
       "  <thead>\n",
       "    <tr style=\"text-align: right;\">\n",
       "      <th></th>\n",
       "      <th>Count</th>\n",
       "    </tr>\n",
       "    <tr>\n",
       "      <th>Date</th>\n",
       "      <th></th>\n",
       "    </tr>\n",
       "  </thead>\n",
       "  <tbody>\n",
       "    <tr>\n",
       "      <th>2017-06-01 00:00:00</th>\n",
       "      <td>0</td>\n",
       "    </tr>\n",
       "    <tr>\n",
       "      <th>2017-06-01 00:40:00</th>\n",
       "      <td>1</td>\n",
       "    </tr>\n",
       "    <tr>\n",
       "      <th>2017-06-01 01:20:00</th>\n",
       "      <td>2</td>\n",
       "    </tr>\n",
       "    <tr>\n",
       "      <th>2017-06-01 02:00:00</th>\n",
       "      <td>2</td>\n",
       "    </tr>\n",
       "    <tr>\n",
       "      <th>2017-06-01 02:40:00</th>\n",
       "      <td>3</td>\n",
       "    </tr>\n",
       "  </tbody>\n",
       "</table>\n",
       "</div>"
      ],
      "text/plain": [
       "                     Count\n",
       "Date                      \n",
       "2017-06-01 00:00:00      0\n",
       "2017-06-01 00:40:00      1\n",
       "2017-06-01 01:20:00      2\n",
       "2017-06-01 02:00:00      2\n",
       "2017-06-01 02:40:00      3"
      ]
     },
     "execution_count": 91,
     "metadata": {},
     "output_type": "execute_result"
    }
   ],
   "source": [
    "#bfill--> fill data backwardly\n",
    "third_series = first_series.asfreq('40 min',method='bfill')\n",
    "third_series.head()"
   ]
  },
  {
   "cell_type": "code",
   "execution_count": 92,
   "metadata": {},
   "outputs": [
    {
     "data": {
      "text/html": [
       "<div>\n",
       "<style>\n",
       "    .dataframe thead tr:only-child th {\n",
       "        text-align: right;\n",
       "    }\n",
       "\n",
       "    .dataframe thead th {\n",
       "        text-align: left;\n",
       "    }\n",
       "\n",
       "    .dataframe tbody tr th {\n",
       "        vertical-align: top;\n",
       "    }\n",
       "</style>\n",
       "<table border=\"1\" class=\"dataframe\">\n",
       "  <thead>\n",
       "    <tr style=\"text-align: right;\">\n",
       "      <th></th>\n",
       "      <th>Count</th>\n",
       "    </tr>\n",
       "    <tr>\n",
       "      <th>Date</th>\n",
       "      <th></th>\n",
       "    </tr>\n",
       "  </thead>\n",
       "  <tbody>\n",
       "    <tr>\n",
       "      <th>2017-06-01 00:00:00</th>\n",
       "      <td>0.0</td>\n",
       "    </tr>\n",
       "    <tr>\n",
       "      <th>2017-06-01 00:40:00</th>\n",
       "      <td>NaN</td>\n",
       "    </tr>\n",
       "    <tr>\n",
       "      <th>2017-06-01 01:20:00</th>\n",
       "      <td>NaN</td>\n",
       "    </tr>\n",
       "    <tr>\n",
       "      <th>2017-06-01 02:00:00</th>\n",
       "      <td>2.0</td>\n",
       "    </tr>\n",
       "    <tr>\n",
       "      <th>2017-06-01 02:40:00</th>\n",
       "      <td>NaN</td>\n",
       "    </tr>\n",
       "  </tbody>\n",
       "</table>\n",
       "</div>"
      ],
      "text/plain": [
       "                     Count\n",
       "Date                      \n",
       "2017-06-01 00:00:00    0.0\n",
       "2017-06-01 00:40:00    NaN\n",
       "2017-06-01 01:20:00    NaN\n",
       "2017-06-01 02:00:00    2.0\n",
       "2017-06-01 02:40:00    NaN"
      ]
     },
     "execution_count": 92,
     "metadata": {},
     "output_type": "execute_result"
    }
   ],
   "source": [
    "#if we do not want to add any new data in new rows we choose method = None\n",
    "fourth_series = first_series.asfreq('40 min',method=None)\n",
    "fourth_series.head()"
   ]
  },
  {
   "cell_type": "code",
   "execution_count": 93,
   "metadata": {},
   "outputs": [
    {
     "data": {
      "text/plain": [
       "(29, 1)"
      ]
     },
     "execution_count": 93,
     "metadata": {},
     "output_type": "execute_result"
    }
   ],
   "source": [
    "fourth_series.shape"
   ]
  },
  {
   "cell_type": "markdown",
   "metadata": {},
   "source": [
    "# Removing datapoints"
   ]
  },
  {
   "cell_type": "code",
   "execution_count": 94,
   "metadata": {},
   "outputs": [
    {
     "data": {
      "text/html": [
       "<div>\n",
       "<style>\n",
       "    .dataframe thead tr:only-child th {\n",
       "        text-align: right;\n",
       "    }\n",
       "\n",
       "    .dataframe thead th {\n",
       "        text-align: left;\n",
       "    }\n",
       "\n",
       "    .dataframe tbody tr th {\n",
       "        vertical-align: top;\n",
       "    }\n",
       "</style>\n",
       "<table border=\"1\" class=\"dataframe\">\n",
       "  <thead>\n",
       "    <tr style=\"text-align: right;\">\n",
       "      <th></th>\n",
       "      <th>Count</th>\n",
       "    </tr>\n",
       "    <tr>\n",
       "      <th>Date</th>\n",
       "      <th></th>\n",
       "    </tr>\n",
       "  </thead>\n",
       "  <tbody>\n",
       "    <tr>\n",
       "      <th>2017-06-01 00:00:00</th>\n",
       "      <td>0</td>\n",
       "    </tr>\n",
       "    <tr>\n",
       "      <th>2017-06-01 05:00:00</th>\n",
       "      <td>5</td>\n",
       "    </tr>\n",
       "    <tr>\n",
       "      <th>2017-06-01 10:00:00</th>\n",
       "      <td>10</td>\n",
       "    </tr>\n",
       "    <tr>\n",
       "      <th>2017-06-01 15:00:00</th>\n",
       "      <td>15</td>\n",
       "    </tr>\n",
       "  </tbody>\n",
       "</table>\n",
       "</div>"
      ],
      "text/plain": [
       "                     Count\n",
       "Date                      \n",
       "2017-06-01 00:00:00      0\n",
       "2017-06-01 05:00:00      5\n",
       "2017-06-01 10:00:00     10\n",
       "2017-06-01 15:00:00     15"
      ]
     },
     "execution_count": 94,
     "metadata": {},
     "output_type": "execute_result"
    }
   ],
   "source": [
    "fifth_series = first_series.asfreq('5H', method = None)\n",
    "fifth_series.head()"
   ]
  },
  {
   "cell_type": "markdown",
   "metadata": {},
   "source": [
    "Using above code we are losing the data points. Count represent value at that point. If we are using some other statistics like sum, mean we have to use resample function."
   ]
  },
  {
   "cell_type": "code",
   "execution_count": 95,
   "metadata": {},
   "outputs": [
    {
     "data": {
      "text/html": [
       "<div>\n",
       "<style>\n",
       "    .dataframe thead tr:only-child th {\n",
       "        text-align: right;\n",
       "    }\n",
       "\n",
       "    .dataframe thead th {\n",
       "        text-align: left;\n",
       "    }\n",
       "\n",
       "    .dataframe tbody tr th {\n",
       "        vertical-align: top;\n",
       "    }\n",
       "</style>\n",
       "<table border=\"1\" class=\"dataframe\">\n",
       "  <thead>\n",
       "    <tr style=\"text-align: right;\">\n",
       "      <th></th>\n",
       "      <th>Count</th>\n",
       "    </tr>\n",
       "    <tr>\n",
       "      <th>Date</th>\n",
       "      <th></th>\n",
       "    </tr>\n",
       "  </thead>\n",
       "  <tbody>\n",
       "    <tr>\n",
       "      <th>2017-06-01 00:00:00</th>\n",
       "      <td>2</td>\n",
       "    </tr>\n",
       "    <tr>\n",
       "      <th>2017-06-01 05:00:00</th>\n",
       "      <td>7</td>\n",
       "    </tr>\n",
       "    <tr>\n",
       "      <th>2017-06-01 10:00:00</th>\n",
       "      <td>12</td>\n",
       "    </tr>\n",
       "    <tr>\n",
       "      <th>2017-06-01 15:00:00</th>\n",
       "      <td>17</td>\n",
       "    </tr>\n",
       "  </tbody>\n",
       "</table>\n",
       "</div>"
      ],
      "text/plain": [
       "                     Count\n",
       "Date                      \n",
       "2017-06-01 00:00:00      2\n",
       "2017-06-01 05:00:00      7\n",
       "2017-06-01 10:00:00     12\n",
       "2017-06-01 15:00:00     17"
      ]
     },
     "execution_count": 95,
     "metadata": {},
     "output_type": "execute_result"
    }
   ],
   "source": [
    "first_series.resample('5H').mean()"
   ]
  },
  {
   "cell_type": "code",
   "execution_count": 96,
   "metadata": {},
   "outputs": [
    {
     "data": {
      "text/html": [
       "<div>\n",
       "<style>\n",
       "    .dataframe thead tr:only-child th {\n",
       "        text-align: right;\n",
       "    }\n",
       "\n",
       "    .dataframe thead th {\n",
       "        text-align: left;\n",
       "    }\n",
       "\n",
       "    .dataframe tbody tr th {\n",
       "        vertical-align: top;\n",
       "    }\n",
       "</style>\n",
       "<table border=\"1\" class=\"dataframe\">\n",
       "  <thead>\n",
       "    <tr style=\"text-align: right;\">\n",
       "      <th></th>\n",
       "      <th>Count</th>\n",
       "    </tr>\n",
       "    <tr>\n",
       "      <th>Date</th>\n",
       "      <th></th>\n",
       "    </tr>\n",
       "  </thead>\n",
       "  <tbody>\n",
       "    <tr>\n",
       "      <th>2017-06-01 00:00:00</th>\n",
       "      <td>10</td>\n",
       "    </tr>\n",
       "    <tr>\n",
       "      <th>2017-06-01 05:00:00</th>\n",
       "      <td>35</td>\n",
       "    </tr>\n",
       "    <tr>\n",
       "      <th>2017-06-01 10:00:00</th>\n",
       "      <td>60</td>\n",
       "    </tr>\n",
       "    <tr>\n",
       "      <th>2017-06-01 15:00:00</th>\n",
       "      <td>85</td>\n",
       "    </tr>\n",
       "  </tbody>\n",
       "</table>\n",
       "</div>"
      ],
      "text/plain": [
       "                     Count\n",
       "Date                      \n",
       "2017-06-01 00:00:00     10\n",
       "2017-06-01 05:00:00     35\n",
       "2017-06-01 10:00:00     60\n",
       "2017-06-01 15:00:00     85"
      ]
     },
     "execution_count": 96,
     "metadata": {},
     "output_type": "execute_result"
    }
   ],
   "source": [
    "first_series.resample('5H').sum()"
   ]
  },
  {
   "cell_type": "code",
   "execution_count": 97,
   "metadata": {},
   "outputs": [
    {
     "data": {
      "text/html": [
       "<div>\n",
       "<style>\n",
       "    .dataframe thead tr:only-child th {\n",
       "        text-align: right;\n",
       "    }\n",
       "\n",
       "    .dataframe thead th {\n",
       "        text-align: left;\n",
       "    }\n",
       "\n",
       "    .dataframe tbody tr th {\n",
       "        vertical-align: top;\n",
       "    }\n",
       "</style>\n",
       "<table border=\"1\" class=\"dataframe\">\n",
       "  <thead>\n",
       "    <tr style=\"text-align: right;\">\n",
       "      <th></th>\n",
       "      <th>Count</th>\n",
       "    </tr>\n",
       "    <tr>\n",
       "      <th>Date</th>\n",
       "      <th></th>\n",
       "    </tr>\n",
       "  </thead>\n",
       "  <tbody>\n",
       "    <tr>\n",
       "      <th>2017-06-01 00:00:00</th>\n",
       "      <td>0</td>\n",
       "    </tr>\n",
       "    <tr>\n",
       "      <th>2017-06-01 05:00:00</th>\n",
       "      <td>5</td>\n",
       "    </tr>\n",
       "    <tr>\n",
       "      <th>2017-06-01 10:00:00</th>\n",
       "      <td>10</td>\n",
       "    </tr>\n",
       "    <tr>\n",
       "      <th>2017-06-01 15:00:00</th>\n",
       "      <td>15</td>\n",
       "    </tr>\n",
       "  </tbody>\n",
       "</table>\n",
       "</div>"
      ],
      "text/plain": [
       "                     Count\n",
       "Date                      \n",
       "2017-06-01 00:00:00      0\n",
       "2017-06-01 05:00:00      5\n",
       "2017-06-01 10:00:00     10\n",
       "2017-06-01 15:00:00     15"
      ]
     },
     "execution_count": 97,
     "metadata": {},
     "output_type": "execute_result"
    }
   ],
   "source": [
    "first_series.resample('5H').min()"
   ]
  },
  {
   "cell_type": "code",
   "execution_count": 98,
   "metadata": {},
   "outputs": [
    {
     "data": {
      "text/html": [
       "<div>\n",
       "<style>\n",
       "    .dataframe thead tr:only-child th {\n",
       "        text-align: right;\n",
       "    }\n",
       "\n",
       "    .dataframe thead th {\n",
       "        text-align: left;\n",
       "    }\n",
       "\n",
       "    .dataframe tbody tr th {\n",
       "        vertical-align: top;\n",
       "    }\n",
       "</style>\n",
       "<table border=\"1\" class=\"dataframe\">\n",
       "  <thead>\n",
       "    <tr style=\"text-align: right;\">\n",
       "      <th></th>\n",
       "      <th>Count</th>\n",
       "    </tr>\n",
       "    <tr>\n",
       "      <th>Date</th>\n",
       "      <th></th>\n",
       "    </tr>\n",
       "  </thead>\n",
       "  <tbody>\n",
       "    <tr>\n",
       "      <th>2017-06-01 00:00:00</th>\n",
       "      <td>4</td>\n",
       "    </tr>\n",
       "    <tr>\n",
       "      <th>2017-06-01 05:00:00</th>\n",
       "      <td>9</td>\n",
       "    </tr>\n",
       "    <tr>\n",
       "      <th>2017-06-01 10:00:00</th>\n",
       "      <td>14</td>\n",
       "    </tr>\n",
       "    <tr>\n",
       "      <th>2017-06-01 15:00:00</th>\n",
       "      <td>19</td>\n",
       "    </tr>\n",
       "  </tbody>\n",
       "</table>\n",
       "</div>"
      ],
      "text/plain": [
       "                     Count\n",
       "Date                      \n",
       "2017-06-01 00:00:00      4\n",
       "2017-06-01 05:00:00      9\n",
       "2017-06-01 10:00:00     14\n",
       "2017-06-01 15:00:00     19"
      ]
     },
     "execution_count": 98,
     "metadata": {},
     "output_type": "execute_result"
    }
   ],
   "source": [
    "first_series.resample('5H').max()"
   ]
  },
  {
   "cell_type": "markdown",
   "metadata": {},
   "source": [
    "Note :-  both backward and forward sampling requires a lot of domain knowledge"
   ]
  },
  {
   "cell_type": "code",
   "execution_count": null,
   "metadata": {
    "collapsed": true
   },
   "outputs": [],
   "source": []
  }
 ],
 "metadata": {
  "kernelspec": {
   "display_name": "Python 3",
   "language": "python",
   "name": "python3"
  },
  "language_info": {
   "codemirror_mode": {
    "name": "ipython",
    "version": 3
   },
   "file_extension": ".py",
   "mimetype": "text/x-python",
   "name": "python",
   "nbconvert_exporter": "python",
   "pygments_lexer": "ipython3",
   "version": "3.5.4"
  }
 },
 "nbformat": 4,
 "nbformat_minor": 2
}
